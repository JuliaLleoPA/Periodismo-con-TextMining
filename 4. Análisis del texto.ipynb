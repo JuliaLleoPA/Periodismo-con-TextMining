{
 "cells": [
  {
   "cell_type": "markdown",
   "metadata": {},
   "source": [
    "###  <span style=\"color:orange\"> ANÁLISIS DEL TEXTO </span>\n",
    "___\n",
    "Los objetivos que esperamos conseguir en esta fase serán:\n",
    "* La medición de palabras más frecuentes por periódico, que delaten los temas preferentes en sus informaciones\n",
    "* La riqueza léxica total por medio, que indirectamente revele la variedad de aspectos destacados en la selección específica de noticias\n",
    "* La media de palabras por artículo, que nos permita sacar conclusiones sobre el nivel de cobertura concedida a la pandemia.\n",
    "\n",
    "Para todo ello, trabajaremos computacionalmente con los datos generados con nuestra matriz. \n"
   ]
  },
  {
   "cell_type": "markdown",
   "metadata": {},
   "source": [
    "####  <span style=\"color:blue\"> PALABRAS MÁS COMUNES POR MEDIO </span>\n",
    "___\n",
    "Este cálculo se obtiene especificando el número de repeticiones que cada término debe igualar o superar en nuestra matriz.\n"
   ]
  },
  {
   "cell_type": "code",
   "execution_count": null,
   "metadata": {},
   "outputs": [],
   "source": [
    "# Leemos la matriz de términos\n",
    "import pandas as pd\n",
    "\n",
    "matriz = pd.read_pickle('df_matriz.pkl')"
   ]
  },
  {
   "cell_type": "code",
   "execution_count": null,
   "metadata": {},
   "outputs": [],
   "source": [
    "# Por ejemplo, seleccionemos las 10 palabras más comunes\n",
    "'''Buscamos recoger tanto el nombre de la palabra como el número de repeticiones, \n",
    "así que crearemos un diccionario con esa estructura'''\n",
    "top10 = {}\n",
    "\n",
    "'''Para simplicar el posterior bucle, alteraremos el orden normal de representación de \n",
    "la matriz(cada columna corresponde a un término, y cada fila a un periódico). Con el método transpose conseguimos que\n",
    "cada periódico componga una columna y las filas pasen a ser el recuento de apariciones de cada palabra'''\n",
    "matriz = matriz.transpose()\n",
    "'''Recorreremos cada periódico'''\n",
    "for c in matriz.columns:\n",
    "    '''La función .head nos devolverá el número especificado de elementos (10) con mayor valor'''\n",
    "    top = matriz[c].sort_values(ascending=False).head(10)\n",
    "    '''Ordenamos nuestro diccionario para que la clave sea el nombre del diccionario y el valor sea una lista\n",
    "    con tuplas que contengan ('término', nº de repeticiones)'''\n",
    "    top10[c]= list(zip(top.index, top.values))"
   ]
  },
  {
   "cell_type": "markdown",
   "metadata": {},
   "source": [
    "####  <span style=\"color:blue\"> RIQUEZA LÉXICA </span>\n",
    "___\n",
    "\n",
    "Para este objetivo, operaremos con la extensión para vectores y matrices Python **Numpy**, una biblioteca que permite realizar tareas matemáticas de alto nivel y operar con la matriz de forma sencilla. "
   ]
  },
  {
   "cell_type": "code",
   "execution_count": null,
   "metadata": {},
   "outputs": [],
   "source": [
    "# Creamos una lista con las palabras que tienen una aparción por lo menos\n",
    "\n",
    "lista_apariciones = []\n",
    "for periodico in matriz.columns:\n",
    "    '''El [0] refiere el índice del DataFrame al que nos estamos refiriendo'''\n",
    "    apariciones = matriz[periodico].to_numpy().nonzero()[0].size\n",
    "    lista_apariciones.append(apariciones)"
   ]
  },
  {
   "cell_type": "markdown",
   "metadata": {},
   "source": [
    "####  <span style=\"color:blue\"> MEDIA DE PALABRAS </span>\n",
    "___\n",
    "Nuestro objetivo en este caso es acceder al total de palabras de cada medio dividido entre el número de artículos recogidos. Para ello, medimos el total de palabras en cada periódico, simplemente recorriendo la matriz con la función de suma:"
   ]
  },
  {
   "cell_type": "code",
   "execution_count": null,
   "metadata": {},
   "outputs": [],
   "source": [
    "#Calculamos el total de palabras por periódico\n",
    "total_palabras = []\n",
    "for word in matriz.columns:\n",
    "    total = sum(matriz[word])\n",
    "    total_palabras.append(total)"
   ]
  },
  {
   "cell_type": "markdown",
   "metadata": {},
   "source": [
    "Habiendo definido manualmente una lista del total de artículos recogidos por cada periódico, \n",
    "\n",
    "`\n",
    "d['Artículos recogidos por periódico'] = total_articulos `\n",
    "\n",
    "el cálculo de la media resultaría algo tan sencillo como lo siguiente:"
   ]
  },
  {
   "cell_type": "code",
   "execution_count": null,
   "metadata": {},
   "outputs": [],
   "source": [
    "d['Media'] = d['Palabras usadas por cada periódico'] / d['Artículos recogidos por periódico']"
   ]
  }
 ],
 "metadata": {
  "kernelspec": {
   "display_name": "Python 3",
   "language": "python",
   "name": "python3"
  },
  "language_info": {
   "codemirror_mode": {
    "name": "ipython",
    "version": 3
   },
   "file_extension": ".py",
   "mimetype": "text/x-python",
   "name": "python",
   "nbconvert_exporter": "python",
   "pygments_lexer": "ipython3",
   "version": "3.7.3"
  }
 },
 "nbformat": 4,
 "nbformat_minor": 2
}
