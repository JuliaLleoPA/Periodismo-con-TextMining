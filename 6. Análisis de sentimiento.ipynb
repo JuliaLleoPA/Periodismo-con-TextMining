{
 "cells": [
  {
   "cell_type": "markdown",
   "metadata": {},
   "source": [
    "\n",
    "###  <span style=\"color:orange\"> ANÁLISIS DE SENTIMIENTOS </span>\n",
    "___\n",
    "La última exploración que haremos será una aproximación al análisis de sentimiento en idioma español. Esta técnica consiste en extraer información de la subjetividad presente en una serie de textos o documentos, normalmente centrado en la extracción de emociones, discriminando entre tres valores fundamentales: positivo, negativo y neutral.\n",
    "\n",
    "La gran distancia de recursos existentes para modelos en lengua inglesa y española nos impide en este apartado del uso de paquetes tan completos como TextBlob o las funciones de análisis de sentimiento de word2vec, dos de las herramientas más comunes y eficientes en el mundo del análisis de sentimiento.\n",
    "\n",
    "Para nuestro ejercicio utilizaremos el recurso sentiment-analysis-spanish de Hugo J. Bello. Esta biblioteca utiliza redes neuronales convencionales para predecir la detección de sentimiento en idioma español. El modelo ha sido entrenado con 800.000 valoraciones de usuarios a través de las plataformas de eltenedor, Decathlon, tripadvisor, filmaffinity y ebay, y alcanza un 88% de precisión. \n",
    "\n",
    "Su uso no será tan sencillo como los anteriores pasos, pues además de instalar el paquete sentiment-analysis-spanish, se requiere contar con las bibliotecas Keras y Tensorflow en nuestro dispositivo.\n",
    "\n"
   ]
  },
  {
   "cell_type": "code",
   "execution_count": null,
   "metadata": {},
   "outputs": [],
   "source": [
    "from sentiment_analysis_spanish import sentiment_analysis"
   ]
  },
  {
   "cell_type": "markdown",
   "metadata": {},
   "source": [
    "En este caso, retomaremos el corpus limpio creado en los primeros pasos, y aplicaremos la función de análisis de sentimiento a cada uno de los periódicos, de forma que extraigamos una valoración general a través de la función sentiment() y que nos devuelva una valoración que va desde:\n",
    "* 0 - más negativo \n",
    "* 1 - más positivo"
   ]
  },
  {
   "cell_type": "code",
   "execution_count": null,
   "metadata": {},
   "outputs": [],
   "source": [
    "# Recordemos que tenemos por corpus un marco DataFrame de Pandas\n",
    "\n",
    "corpus_df = pd.read_pickle('corpus.pkl')"
   ]
  },
  {
   "cell_type": "code",
   "execution_count": null,
   "metadata": {},
   "outputs": [],
   "source": [
    "#Iniciamos la función se análisis de sentimiento\n",
    "\n",
    "sentimiento  = sentiment_analysis.SentimentAnalysisSpanish()\n",
    "\n",
    "'''Definimos qué medio queremos investigar apuntándolo en el DataFrame'''\n",
    "medio = data.Noticias.loc[\"Nombre del periódico\"]\n",
    "\n",
    "sentimiento = sentimiento.sentiment(medio)"
   ]
  }
 ],
 "metadata": {
  "kernelspec": {
   "display_name": "Python 3",
   "language": "python",
   "name": "python3"
  },
  "language_info": {
   "codemirror_mode": {
    "name": "ipython",
    "version": 3
   },
   "file_extension": ".py",
   "mimetype": "text/x-python",
   "name": "python",
   "nbconvert_exporter": "python",
   "pygments_lexer": "ipython3",
   "version": "3.7.3"
  }
 },
 "nbformat": 4,
 "nbformat_minor": 2
}
