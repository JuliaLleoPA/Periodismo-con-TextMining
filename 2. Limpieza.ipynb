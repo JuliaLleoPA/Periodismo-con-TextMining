{
 "cells": [
  {
   "cell_type": "markdown",
   "metadata": {},
   "source": [
    "###  <span style=\"color:orange\"> LIMPIEZA DE LOS DATOS </span>\n",
    "___\n",
    "A la hora de preparar nuestros textos para su análisis, los datos recuperados deberán pasar por algunos procesos de limpieza que nos aseguren estar trabajando con texto pertinente para nuestros fines.\n",
    "\n",
    "* El primer paso para esta tarea será realizar una revisión del contenido obtenido para poder definir los problemas a los que nos enfrentaremos en cada caso. \n",
    "* Definir los objetivos y límites de la limpieza dependerá los propósitos del proyecto. Según para lo que se vaya a utilizar, nos interesará ser más minuciosos en la limpieza, recuperando un resultado de menor tamaño y mayor relevancia (común en los análisis de contenido), o preferiremos conservar algunos de los rasgos distintivos del texto (técnica utilizada en los análisis estilísticos, entre otros). \n",
    "\n",
    "En nuestro modelo, realizaremos un barrido profundo que únicamente conserve las piezas clave necesarias para estudios de análisis del texto, de sentimiento y modelado de tema. Para la limpieza de nuestros documentos utilizaremos la biblioteca de expresiones regulares para Python **(re)**. \n"
   ]
  },
  {
   "cell_type": "code",
   "execution_count": null,
   "metadata": {},
   "outputs": [],
   "source": [
    "# Importamos la biblioteca de regex (Regular Expression) de Python \n",
    "import re\n",
    "#También importamos el módulo string, que necesitaremos para eliminar la puntuación\n",
    "import string"
   ]
  },
  {
   "cell_type": "markdown",
   "metadata": {},
   "source": [
    "### PRIMERA PARTE DE LA LIMPIEZA\n"
   ]
  },
  {
   "cell_type": "code",
   "execution_count": null,
   "metadata": {},
   "outputs": [],
   "source": [
    "def primeraLimpieza(text):\n",
    "    '''Primero vamos a separar algunas palabras se han unido a otras en el proceso de raspado'''\n",
    "    text = re.sub(r'([a-z])([A-Z])', r'\\1 \\2', text)\n",
    "\n",
    "    '''También es común que se conserven las marcas del cambio de línea'''\n",
    "    text = re.sub('\\n', ' ', text)\n",
    "    \n",
    "    '''Y de tabulación'''\n",
    "    text = re.sub('\\t', ' ', text)\n",
    "    \n",
    "    '''Eliminamos la puntuación con la constante de Python, que se encarga de: !\"#$%&amp;'()*+,-./:;&lt;=&gt;?@[\\]^_`{|}~'''\n",
    "    text = re.sub('[%s]' % re.escape(string.punctuation), ' ', text)\n",
    "    \n",
    "    '''Añadimos alguna puntuación que no recoge la constante'''\n",
    "    text = re.sub('[‘’“”—«»¡¿▪]', ' ', text)\n",
    "    \n",
    "    '''Por último, eliminamos el exceso de espaciado que hemos estado generando en nuestra limpieza'''\n",
    "     text = \" \".join(text.split())\n",
    "    \n",
    "    return text"
   ]
  },
  {
   "cell_type": "markdown",
   "metadata": {},
   "source": [
    "En el caso de la matriz que generaremos en la siguiente tarea, debemos solucionar algunos problemas más en forma de nueva función.\n",
    "\n",
    "\n",
    "\n",
    "### SEGUNDA PARTE DE LA LIMPIEZA"
   ]
  },
  {
   "cell_type": "code",
   "execution_count": null,
   "metadata": {},
   "outputs": [],
   "source": [
    "def segundaLimpieza(text): \n",
    "    \n",
    "    '''Transformamos el texto a minúscula'''\n",
    "    text = text.lower()\n",
    "    \n",
    "    '''También palabras que contengan números en su interior'''\n",
    "    text = re.sub('\\w*\\d\\w*', ' ', text)\n",
    "    \n",
    "    '''Por último, eliminamos el exceso de espaciado que hemos estado generando en nuestra limpieza'''\n",
    "     text = \" \".join(text.split())\n",
    "    \n",
    "    return text"
   ]
  }
 ],
 "metadata": {
  "kernelspec": {
   "display_name": "Python 3",
   "language": "python",
   "name": "python3"
  },
  "language_info": {
   "codemirror_mode": {
    "name": "ipython",
    "version": 3
   },
   "file_extension": ".py",
   "mimetype": "text/x-python",
   "name": "python",
   "nbconvert_exporter": "python",
   "pygments_lexer": "ipython3",
   "version": "3.7.3"
  }
 },
 "nbformat": 4,
 "nbformat_minor": 2
}
